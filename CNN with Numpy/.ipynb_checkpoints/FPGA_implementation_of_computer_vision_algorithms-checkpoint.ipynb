{
 "cells": [
  {
   "cell_type": "code",
   "execution_count": 1,
   "metadata": {
    "colab": {},
    "colab_type": "code",
    "id": "gGlxFwIRas6W"
   },
   "outputs": [],
   "source": [
    "import torch"
   ]
  },
  {
   "cell_type": "code",
   "execution_count": 2,
   "metadata": {
    "colab": {},
    "colab_type": "code",
    "id": "XsOUX8LlbFB2"
   },
   "outputs": [],
   "source": [
    "import torchvision\n",
    "import torchvision.transforms as transforms"
   ]
  },
  {
   "cell_type": "code",
   "execution_count": 3,
   "metadata": {
    "colab": {
     "base_uri": "https://localhost:8080/",
     "height": 85
    },
    "colab_type": "code",
    "id": "umxDIoy8bLTt",
    "outputId": "ff727d79-4fcf-46d3-9578-38d720ba8539"
   },
   "outputs": [
    {
     "name": "stdout",
     "output_type": "stream",
     "text": [
      "Files already downloaded and verified\n",
      "Files already downloaded and verified\n"
     ]
    }
   ],
   "source": [
    "transform = transforms.Compose(\n",
    "    [transforms.ToTensor(),\n",
    "     transforms.Normalize((0.5, 0.5, 0.5), (0.5, 0.5, 0.5))])\n",
    "\n",
    "trainset = torchvision.datasets.CIFAR10(root='./data', train=True,\n",
    "                                        download=True, transform=transform)\n",
    "trainloader = torch.utils.data.DataLoader(trainset, batch_size=4,\n",
    "                                          shuffle=True, num_workers=2)\n",
    "\n",
    "testset = torchvision.datasets.CIFAR10(root='./data', train=False,\n",
    "                                       download=True, transform=transform)\n",
    "testloader = torch.utils.data.DataLoader(testset, batch_size=4,\n",
    "                                         shuffle=False, num_workers=2)\n",
    "\n",
    "classes = ('plane', 'car', 'bird', 'cat',\n",
    "           'deer', 'dog', 'frog', 'horse', 'ship', 'truck')"
   ]
  },
  {
   "cell_type": "code",
   "execution_count": 4,
   "metadata": {
    "colab": {
     "base_uri": "https://localhost:8080/",
     "height": 155
    },
    "colab_type": "code",
    "id": "XNmwQfr4bSrY",
    "outputId": "0ae1cf7a-c077-491c-810a-46c93ec16b4d"
   },
   "outputs": [
    {
     "data": {
      "text/plain": [
       "<Figure size 640x480 with 1 Axes>"
      ]
     },
     "metadata": {},
     "output_type": "display_data"
    },
    {
     "name": "stdout",
     "output_type": "stream",
     "text": [
      "horse   cat  bird  frog\n"
     ]
    }
   ],
   "source": [
    "import matplotlib.pyplot as plt\n",
    "import numpy as np\n",
    "\n",
    "# functions to show an image\n",
    "\n",
    "\n",
    "def imshow(img):\n",
    "    img = img / 2 + 0.5     # unnormalize\n",
    "    npimg = img.numpy()\n",
    "    plt.imshow(np.transpose(npimg, (1, 2, 0)))\n",
    "    plt.show()\n",
    "\n",
    "\n",
    "# get some random training images\n",
    "dataiter = iter(trainloader)\n",
    "images, labels = dataiter.next()\n",
    "\n",
    "# show images\n",
    "imshow(torchvision.utils.make_grid(images))\n",
    "# print labels\n",
    "print(' '.join('%5s' % classes[labels[j]] for j in range(4)))"
   ]
  },
  {
   "cell_type": "code",
   "execution_count": 5,
   "metadata": {
    "colab": {},
    "colab_type": "code",
    "id": "1nmXA0yhbYkH"
   },
   "outputs": [],
   "source": [
    "import torch.nn as nn\n",
    "import torch.nn.functional as F\n",
    "\n",
    "\n",
    "class Net(nn.Module):\n",
    "    def __init__(self):\n",
    "        super(Net, self).__init__()\n",
    "        self.conv1 = nn.Conv2d(3, 6, 5)\n",
    "        self.pool = nn.MaxPool2d(2, 2)\n",
    "        self.conv2 = nn.Conv2d(6, 16, 5)\n",
    "        self.fc1 = nn.Linear(16 * 5 * 5, 120)\n",
    "        self.fc2 = nn.Linear(120, 84)\n",
    "        self.fc3 = nn.Linear(84, 10)\n",
    "\n",
    "    def forward(self, x):\n",
    "        x = self.pool(F.relu(self.conv1(x)))\n",
    "        x = self.pool(F.relu(self.conv2(x)))\n",
    "        x = x.view(-1, 16 * 5 * 5)\n",
    "        x = F.relu(self.fc1(x))\n",
    "        x = F.relu(self.fc2(x))\n",
    "        x = self.fc3(x)\n",
    "        return x\n",
    "\n",
    "\n",
    "net = Net()"
   ]
  },
  {
   "cell_type": "code",
   "execution_count": 6,
   "metadata": {
    "colab": {},
    "colab_type": "code",
    "id": "7NSWEzfAbffi"
   },
   "outputs": [],
   "source": [
    "import torch.optim as optim\n",
    "\n",
    "criterion = nn.CrossEntropyLoss()\n",
    "optimizer = optim.SGD(net.parameters(), lr=0.001, momentum=0.9)"
   ]
  },
  {
   "cell_type": "code",
   "execution_count": 0,
   "metadata": {
    "colab": {
     "base_uri": "https://localhost:8080/",
     "height": 238
    },
    "colab_type": "code",
    "id": "nv8Igor-bjP-",
    "outputId": "030cd637-5086-40ca-eed2-62eec4d2d250"
   },
   "outputs": [
    {
     "name": "stdout",
     "output_type": "stream",
     "text": [
      "[1,  2000] loss: 2.208\n",
      "[1,  4000] loss: 1.858\n",
      "[1,  6000] loss: 1.666\n",
      "[1,  8000] loss: 1.584\n",
      "[1, 10000] loss: 1.525\n",
      "[1, 12000] loss: 1.496\n",
      "[2,  2000] loss: 1.420\n",
      "[2,  4000] loss: 1.407\n",
      "[2,  6000] loss: 1.362\n",
      "[2,  8000] loss: 1.331\n",
      "[2, 10000] loss: 1.317\n",
      "[2, 12000] loss: 1.312\n",
      "Finished Training\n"
     ]
    }
   ],
   "source": [
    "for epoch in range(2):  # loop over the dataset multiple times\n",
    "\n",
    "    running_loss = 0.0\n",
    "    for i, data in enumerate(trainloader, 0):\n",
    "        # get the inputs; data is a list of [inputs, labels]\n",
    "        inputs, labels = data\n",
    "\n",
    "        # zero the parameter gradients\n",
    "        optimizer.zero_grad()\n",
    "\n",
    "        # forward + backward + optimize\n",
    "        outputs = net(inputs)\n",
    "        loss = criterion(outputs, labels)\n",
    "        loss.backward()\n",
    "        optimizer.step()\n",
    "\n",
    "        # print statistics\n",
    "        running_loss += loss.item()\n",
    "        if i % 2000 == 1999:    # print every 2000 mini-batches\n",
    "            print('[%d, %5d] loss: %.3f' %\n",
    "                  (epoch + 1, i + 1, running_loss / 2000))\n",
    "            running_loss = 0.0\n",
    "\n",
    "print('Finished Training')"
   ]
  },
  {
   "cell_type": "code",
   "execution_count": 0,
   "metadata": {
    "colab": {},
    "colab_type": "code",
    "id": "7zKUtGWbbnil"
   },
   "outputs": [],
   "source": [
    "PATH = './cifar_net.pth'\n",
    "torch.save(net.state_dict(), PATH)"
   ]
  },
  {
   "cell_type": "code",
   "execution_count": 0,
   "metadata": {
    "colab": {
     "base_uri": "https://localhost:8080/",
     "height": 155
    },
    "colab_type": "code",
    "id": "ymP1GhXvbrpU",
    "outputId": "5d5e4927-2850-4a2f-9bd3-ba1372c30244"
   },
   "outputs": [
    {
     "data": {
      "image/png": "[encoded data removed]",
      "text/plain": [
       "<Figure size 432x288 with 1 Axes>"
      ]
     },
     "metadata": {
      "tags": []
     },
     "output_type": "display_data"
    },
    {
     "name": "stdout",
     "output_type": "stream",
     "text": [
      "GroundTruth:    cat  ship  ship plane\n"
     ]
    }
   ],
   "source": [
    "dataiter = iter(testloader)\n",
    "images, labels = dataiter.next()\n",
    "\n",
    "# print images\n",
    "imshow(torchvision.utils.make_grid(images))\n",
    "print('GroundTruth: ', ' '.join('%5s' % classes[labels[j]] for j in range(4)))"
   ]
  },
  {
   "cell_type": "code",
   "execution_count": 0,
   "metadata": {
    "colab": {
     "base_uri": "https://localhost:8080/",
     "height": 34
    },
    "colab_type": "code",
    "id": "GbCc2B4AbuzD",
    "outputId": "ad41e263-5ddf-4f71-f940-3aec34fd0a9f"
   },
   "outputs": [
    {
     "data": {
      "text/plain": [
       "<All keys matched successfully>"
      ]
     },
     "execution_count": 10,
     "metadata": {
      "tags": []
     },
     "output_type": "execute_result"
    }
   ],
   "source": [
    "net = Net()\n",
    "net.load_state_dict(torch.load(PATH))"
   ]
  },
  {
   "cell_type": "code",
   "execution_count": 0,
   "metadata": {
    "colab": {},
    "colab_type": "code",
    "id": "eKLl4ocBb0Hp"
   },
   "outputs": [],
   "source": [
    "outputs = net(images)"
   ]
  },
  {
   "cell_type": "code",
   "execution_count": 0,
   "metadata": {
    "colab": {
     "base_uri": "https://localhost:8080/",
     "height": 34
    },
    "colab_type": "code",
    "id": "2lVdXTu2b22d",
    "outputId": "4fab18d6-30c4-41d8-ef93-002088da9fd9"
   },
   "outputs": [
    {
     "name": "stdout",
     "output_type": "stream",
     "text": [
      "Predicted:   frog  ship  ship plane\n"
     ]
    }
   ],
   "source": [
    "_, predicted = torch.max(outputs, 1)\n",
    "\n",
    "print('Predicted: ', ' '.join('%5s' % classes[predicted[j]]\n",
    "                              for j in range(4)))"
   ]
  },
  {
   "cell_type": "code",
   "execution_count": 0,
   "metadata": {
    "colab": {
     "base_uri": "https://localhost:8080/",
     "height": 34
    },
    "colab_type": "code",
    "id": "ZvVQ3qQGb7S2",
    "outputId": "301c6b85-beef-4879-8de0-26647bbed905"
   },
   "outputs": [
    {
     "name": "stdout",
     "output_type": "stream",
     "text": [
      "Accuracy of the network on the 10000 test images: 53 %\n"
     ]
    }
   ],
   "source": [
    "correct = 0\n",
    "total = 0\n",
    "with torch.no_grad():\n",
    "    for data in testloader:\n",
    "        images, labels = data\n",
    "        outputs = net(images)\n",
    "        _, predicted = torch.max(outputs.data, 1)\n",
    "        total += labels.size(0)\n",
    "        correct += (predicted == labels).sum().item()\n",
    "\n",
    "print('Accuracy of the network on the 10000 test images: %d %%' % (\n",
    "    100 * correct / total))"
   ]
  },
  {
   "cell_type": "code",
   "execution_count": 0,
   "metadata": {
    "colab": {
     "base_uri": "https://localhost:8080/",
     "height": 199
    },
    "colab_type": "code",
    "id": "Ya6kvclWcSJ6",
    "outputId": "2ef6bf9b-6059-4fff-9c72-d890c084d8bd"
   },
   "outputs": [
    {
     "name": "stdout",
     "output_type": "stream",
     "text": [
      "Collecting myHdl\n",
      "\u001b[?25l  Downloading https://files.pythonhosted.org/packages/4c/dd/57151caac245400753e286f91681093027f5cf521115cebe7b0594ab122d/myhdl-0.11.tar.gz (709kB)\n",
      "\r",
      "\u001b[K     |▌                               | 10kB 18.7MB/s eta 0:00:01\r",
      "\u001b[K     |█                               | 20kB 1.8MB/s eta 0:00:01\r",
      "\u001b[K     |█▍                              | 30kB 2.7MB/s eta 0:00:01\r",
      "\u001b[K     |█▉                              | 40kB 1.8MB/s eta 0:00:01\r",
      "\u001b[K     |██▎                             | 51kB 2.2MB/s eta 0:00:01\r",
      "\u001b[K     |██▊                             | 61kB 2.6MB/s eta 0:00:01\r",
      "\u001b[K     |███▎                            | 71kB 3.0MB/s eta 0:00:01\r",
      "\u001b[K     |███▊                            | 81kB 3.4MB/s eta 0:00:01\r",
      "\u001b[K     |████▏                           | 92kB 3.8MB/s eta 0:00:01\r",
      "\u001b[K     |████▋                           | 102kB 2.9MB/s eta 0:00:01\r",
      "\u001b[K     |█████                           | 112kB 2.9MB/s eta 0:00:01\r",
      "\u001b[K     |█████▌                          | 122kB 2.9MB/s eta 0:00:01\r",
      "\u001b[K     |██████                          | 133kB 2.9MB/s eta 0:00:01\r",
      "\u001b[K     |██████▌                         | 143kB 2.9MB/s eta 0:00:01\r",
      "\u001b[K     |███████                         | 153kB 2.9MB/s eta 0:00:01\r",
      "\u001b[K     |███████▍                        | 163kB 2.9MB/s eta 0:00:01\r",
      "\u001b[K     |███████▉                        | 174kB 2.9MB/s eta 0:00:01\r",
      "\u001b[K     |████████▎                       | 184kB 2.9MB/s eta 0:00:01\r",
      "\u001b[K     |████████▊                       | 194kB 2.9MB/s eta 0:00:01\r",
      "\u001b[K     |█████████▎                      | 204kB 2.9MB/s eta 0:00:01\r",
      "\u001b[K     |█████████▊                      | 215kB 2.9MB/s eta 0:00:01\r",
      "\u001b[K     |██████████▏                     | 225kB 2.9MB/s eta 0:00:01\r",
      "\u001b[K     |██████████▋                     | 235kB 2.9MB/s eta 0:00:01\r",
      "\u001b[K     |███████████                     | 245kB 2.9MB/s eta 0:00:01\r",
      "\u001b[K     |███████████▌                    | 256kB 2.9MB/s eta 0:00:01\r",
      "\u001b[K     |████████████                    | 266kB 2.9MB/s eta 0:00:01\r",
      "\u001b[K     |████████████▌                   | 276kB 2.9MB/s eta 0:00:01\r",
      "\u001b[K     |█████████████                   | 286kB 2.9MB/s eta 0:00:01\r",
      "\u001b[K     |█████████████▍                  | 296kB 2.9MB/s eta 0:00:01\r",
      "\u001b[K     |█████████████▉                  | 307kB 2.9MB/s eta 0:00:01\r",
      "\u001b[K     |██████████████▎                 | 317kB 2.9MB/s eta 0:00:01\r",
      "\u001b[K     |██████████████▊                 | 327kB 2.9MB/s eta 0:00:01\r",
      "\u001b[K     |███████████████▎                | 337kB 2.9MB/s eta 0:00:01\r",
      "\u001b[K     |███████████████▊                | 348kB 2.9MB/s eta 0:00:01\r",
      "\u001b[K     |████████████████▏               | 358kB 2.9MB/s eta 0:00:01\r",
      "\u001b[K     |████████████████▋               | 368kB 2.9MB/s eta 0:00:01\r",
      "\u001b[K     |█████████████████               | 378kB 2.9MB/s eta 0:00:01\r",
      "\u001b[K     |█████████████████▌              | 389kB 2.9MB/s eta 0:00:01\r",
      "\u001b[K     |██████████████████              | 399kB 2.9MB/s eta 0:00:01\r",
      "\u001b[K     |██████████████████▌             | 409kB 2.9MB/s eta 0:00:01\r",
      "\u001b[K     |███████████████████             | 419kB 2.9MB/s eta 0:00:01\r",
      "\u001b[K     |███████████████████▍            | 430kB 2.9MB/s eta 0:00:01\r",
      "\u001b[K     |███████████████████▉            | 440kB 2.9MB/s eta 0:00:01\r",
      "\u001b[K     |████████████████████▎           | 450kB 2.9MB/s eta 0:00:01\r",
      "\u001b[K     |████████████████████▉           | 460kB 2.9MB/s eta 0:00:01\r",
      "\u001b[K     |█████████████████████▎          | 471kB 2.9MB/s eta 0:00:01\r",
      "\u001b[K     |█████████████████████▊          | 481kB 2.9MB/s eta 0:00:01\r",
      "\u001b[K     |██████████████████████▏         | 491kB 2.9MB/s eta 0:00:01\r",
      "\u001b[K     |██████████████████████▋         | 501kB 2.9MB/s eta 0:00:01\r",
      "\u001b[K     |███████████████████████         | 512kB 2.9MB/s eta 0:00:01\r",
      "\u001b[K     |███████████████████████▌        | 522kB 2.9MB/s eta 0:00:01\r",
      "\u001b[K     |████████████████████████        | 532kB 2.9MB/s eta 0:00:01\r",
      "\u001b[K     |████████████████████████▌       | 542kB 2.9MB/s eta 0:00:01\r",
      "\u001b[K     |█████████████████████████       | 552kB 2.9MB/s eta 0:00:01\r",
      "\u001b[K     |█████████████████████████▍      | 563kB 2.9MB/s eta 0:00:01\r",
      "\u001b[K     |█████████████████████████▉      | 573kB 2.9MB/s eta 0:00:01\r",
      "\u001b[K     |██████████████████████████▎     | 583kB 2.9MB/s eta 0:00:01\r",
      "\u001b[K     |██████████████████████████▉     | 593kB 2.9MB/s eta 0:00:01\r",
      "\u001b[K     |███████████████████████████▎    | 604kB 2.9MB/s eta 0:00:01\r",
      "\u001b[K     |███████████████████████████▊    | 614kB 2.9MB/s eta 0:00:01\r",
      "\u001b[K     |████████████████████████████▏   | 624kB 2.9MB/s eta 0:00:01\r",
      "\u001b[K     |████████████████████████████▋   | 634kB 2.9MB/s eta 0:00:01\r",
      "\u001b[K     |█████████████████████████████   | 645kB 2.9MB/s eta 0:00:01\r",
      "\u001b[K     |█████████████████████████████▌  | 655kB 2.9MB/s eta 0:00:01\r",
      "\u001b[K     |██████████████████████████████  | 665kB 2.9MB/s eta 0:00:01\r",
      "\u001b[K     |██████████████████████████████▌ | 675kB 2.9MB/s eta 0:00:01\r",
      "\u001b[K     |███████████████████████████████ | 686kB 2.9MB/s eta 0:00:01\r",
      "\u001b[K     |███████████████████████████████▍| 696kB 2.9MB/s eta 0:00:01\r",
      "\u001b[K     |███████████████████████████████▉| 706kB 2.9MB/s eta 0:00:01\r",
      "\u001b[K     |████████████████████████████████| 716kB 2.9MB/s \n",
      "\u001b[?25hBuilding wheels for collected packages: myHdl\n",
      "  Building wheel for myHdl (setup.py) ... \u001b[?25l\u001b[?25hdone\n",
      "  Created wheel for myHdl: filename=myhdl-0.11-py2.py3-none-any.whl size=152979 sha256=0b45f229d57c7268117bb1549727bace14e19dfc4f5bc834e92c26119d7dec5e\n",
      "  Stored in directory: /root/.cache/pip/wheels/45/a6/bd/f945964fdc56df0db223c35f448df31b92de94f3a8b6eef767\n",
      "Successfully built myHdl\n",
      "Installing collected packages: myHdl\n",
      "Successfully installed myHdl-0.11\n"
     ]
    }
   ],
   "source": [
    "!pip install myHdl"
   ]
  },
  {
   "cell_type": "code",
   "execution_count": 0,
   "metadata": {
    "colab": {
     "base_uri": "https://localhost:8080/",
     "height": 80
    },
    "colab_type": "code",
    "id": "JVISmdzecc0d",
    "outputId": "ebe8b746-0c1b-4446-87c7-25dfe662e694"
   },
   "outputs": [
    {
     "name": "stdout",
     "output_type": "stream",
     "text": [
      "\u001b[31mERROR: Could not find a version that satisfies the requirement dl2hdl (from versions: none)\u001b[0m\n",
      "\u001b[31mERROR: No matching distribution found for dl2hdl\u001b[0m\n"
     ]
    }
   ],
   "source": [
    "!pip install dl2hdl"
   ]
  },
  {
   "cell_type": "code",
   "execution_count": 0,
   "metadata": {
    "colab": {
     "base_uri": "https://localhost:8080/",
     "height": 333
    },
    "colab_type": "code",
    "id": "5kfdRVLwb-83",
    "outputId": "942a4624-70b8-48dc-e761-5db8ac3ab6fd"
   },
   "outputs": [
    {
     "ename": "ModuleNotFoundError",
     "evalue": "ignored",
     "output_type": "error",
     "traceback": [
      "\u001b[0;31m---------------------------------------------------------------------------\u001b[0m",
      "\u001b[0;31mModuleNotFoundError\u001b[0m                       Traceback (most recent call last)",
      "\u001b[0;32m<ipython-input-14-5ea13c803911>\u001b[0m in \u001b[0;36m<module>\u001b[0;34m()\u001b[0m\n\u001b[1;32m      1\u001b[0m \u001b[0;32mimport\u001b[0m \u001b[0mtorch\u001b[0m\u001b[0;34m.\u001b[0m\u001b[0mnn\u001b[0m \u001b[0;32mas\u001b[0m \u001b[0mnn\u001b[0m\u001b[0;34m\u001b[0m\u001b[0;34m\u001b[0m\u001b[0m\n\u001b[0;32m----> 2\u001b[0;31m \u001b[0;32mfrom\u001b[0m \u001b[0mdl2hdl\u001b[0m\u001b[0;34m.\u001b[0m\u001b[0mmodel\u001b[0m \u001b[0;32mimport\u001b[0m \u001b[0mMyHdlModel\u001b[0m\u001b[0;34m\u001b[0m\u001b[0;34m\u001b[0m\u001b[0m\n\u001b[0m\u001b[1;32m      3\u001b[0m \u001b[0;32mfrom\u001b[0m \u001b[0mdl2hdl\u001b[0m\u001b[0;34m.\u001b[0m\u001b[0mbasic\u001b[0m\u001b[0;34m.\u001b[0m\u001b[0mfixed_def\u001b[0m \u001b[0;32mimport\u001b[0m \u001b[0mFixedDef\u001b[0m\u001b[0;34m\u001b[0m\u001b[0;34m\u001b[0m\u001b[0m\n",
      "\u001b[0;31mModuleNotFoundError\u001b[0m: No module named 'dl2hdl'",
      "",
      "\u001b[0;31m---------------------------------------------------------------------------\u001b[0;32m\nNOTE: If your import is failing due to a missing package, you can\nmanually install dependencies using either !pip or !apt.\n\nTo view examples of installing some common dependencies, click the\n\"Open Examples\" button below.\n\u001b[0;31m---------------------------------------------------------------------------\u001b[0m\n"
     ]
    }
   ],
   "source": [
    "import torch.nn as nn\n",
    "from dl2hdl.model import MyHdlModel\n",
    "from dl2hdl.basic.fixed_def import FixedDef"
   ]
  },
  {
   "cell_type": "code",
   "execution_count": 0,
   "metadata": {
    "colab": {},
    "colab_type": "code",
    "id": "1QEvuQFjcQCj"
   },
   "outputs": [],
   "source": []
  }
 ],
 "metadata": {
  "colab": {
   "name": "FPGA implementation of computer vision algorithms.ipynb",
   "provenance": []
  },
  "kernelspec": {
   "display_name": "Python 3",
   "language": "python",
   "name": "python3"
  },
  "language_info": {
   "codemirror_mode": {
    "name": "ipython",
    "version": 3
   },
   "file_extension": ".py",
   "mimetype": "text/x-python",
   "name": "python",
   "nbconvert_exporter": "python",
   "pygments_lexer": "ipython3",
   "version": "3.7.3"
  }
 },
 "nbformat": 4,
 "nbformat_minor": 1
}
