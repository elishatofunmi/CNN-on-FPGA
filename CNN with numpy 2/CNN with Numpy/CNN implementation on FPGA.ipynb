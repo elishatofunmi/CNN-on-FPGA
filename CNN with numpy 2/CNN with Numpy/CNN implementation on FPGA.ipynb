{
 "cells": [
  {
   "cell_type": "code",
   "execution_count": null,
   "metadata": {},
   "outputs": [],
   "source": [
    "import numpy as np\n",
    "import numpy"
   ]
  },
  {
   "cell_type": "code",
   "execution_count": null,
   "metadata": {},
   "outputs": [],
   "source": [
    "from network import Network\n",
    "import random\n",
    "import numpyCNN as numpycnn\n"
   ]
  },
  {
   "cell_type": "code",
   "execution_count": 3,
   "metadata": {},
   "outputs": [
    {
     "name": "stderr",
     "output_type": "stream",
     "text": [
      "Using TensorFlow backend.\n"
     ]
    }
   ],
   "source": [
    "from keras.datasets import mnist\n",
    "\n",
    "(X_train, y_train), (X_test, y_test) = mnist.load_data()"
   ]
  },
  {
   "cell_type": "code",
   "execution_count": 4,
   "metadata": {},
   "outputs": [
    {
     "data": {
      "text/plain": [
       "(28, 28)"
      ]
     },
     "execution_count": 4,
     "metadata": {},
     "output_type": "execute_result"
    }
   ],
   "source": [
    "test_case = X_train[0]\n",
    "X_train[0].shape"
   ]
  },
  {
   "cell_type": "code",
   "execution_count": 5,
   "metadata": {},
   "outputs": [],
   "source": [
    "def pad(array, reference_shape= (32,32)):\n",
    "    \n",
    "    result = np.zeros(reference_shape)\n",
    "    result[:array.shape[0],:array.shape[1]] = array\n",
    "    return result"
   ]
  },
  {
   "cell_type": "code",
   "execution_count": 6,
   "metadata": {},
   "outputs": [
    {
     "data": {
      "text/plain": [
       "(32, 32)"
      ]
     },
     "execution_count": 6,
     "metadata": {},
     "output_type": "execute_result"
    }
   ],
   "source": [
    "out = pad(test_case)\n",
    "out.shape"
   ]
  },
  {
   "cell_type": "code",
   "execution_count": 7,
   "metadata": {},
   "outputs": [],
   "source": [
    "def transform(x):\n",
    "    append_x = []\n",
    "    for k in x:\n",
    "        padded_k = pad(k)\n",
    "        append_x.append(padded_k)\n",
    "    return append_x\n",
    "\n",
    "train_x = np.array(transform(X_train))"
   ]
  },
  {
   "cell_type": "code",
   "execution_count": 8,
   "metadata": {},
   "outputs": [],
   "source": [
    "train_y = np.array(transform(X_test))"
   ]
  },
  {
   "cell_type": "code",
   "execution_count": 9,
   "metadata": {},
   "outputs": [
    {
     "data": {
      "text/plain": [
       "(60000, 32, 32)"
      ]
     },
     "execution_count": 9,
     "metadata": {},
     "output_type": "execute_result"
    }
   ],
   "source": [
    "train_x.shape"
   ]
  },
  {
   "cell_type": "markdown",
   "metadata": {},
   "source": [
    "# Filter sizes"
   ]
  },
  {
   "cell_type": "code",
   "execution_count": 10,
   "metadata": {},
   "outputs": [],
   "source": [
    "l1_filter = numpy.zeros((6,5,5))\n",
    "l1_filter[0, :, :] = numpy.array([[[-1, 0, 1,1,1], \n",
    "                                   [-1, 0, 1,1,1], \n",
    "                                   [-1, 0, 1,1,1],\n",
    "                                   [-1, 0, 1,1,1],\n",
    "                                   [-1, 0, 1,1,1]]])\n",
    "l1_filter[1, :, :] = numpy.array([[[1,   1,  1, 1, 1], \n",
    "                                   [0,   0,  0, 0, 0], \n",
    "                                   [-1, -1, -1, -1, -1],\n",
    "                                  [-1, -1, -1, -1, -1],\n",
    "                                  [-1, -1, -1, -1, -1]]])\n",
    "l1_filter[2, :, :] = numpy.array([[[0,   0,  0, 0 ,0], \n",
    "                                   [0,   0,  0, 0 ,0], \n",
    "                                   [0,   0,  0, 0, 0],\n",
    "                                   [0,   0,  0, 0 ,0],\n",
    "                                   [0,   0,  0, 0, 0]]])\n",
    "l1_filter[3, :, :] = numpy.array([[[1,   1,  1, 1, 1], \n",
    "                                   [1,   1,  1, 1, 1], \n",
    "                                   [1,   1,  1, 1, 1],\n",
    "                                   [1,   1,  1, 1, 1],\n",
    "                                   [1,   1,  1, 1, 1]]])\n",
    "l1_filter[4, :, :] = numpy.array([[[-1,   -1,  -1, -1, -1], \n",
    "                                   [-1,   -1,  -1, -1, -1], \n",
    "                                   [-1,   -1,  -1, -1, -1],\n",
    "                                   [-1,   -1,  -1, -1, -1],\n",
    "                                   [-1,   -1,  -1, -1, -1]]])\n",
    "l1_filter[5, :, :] = numpy.array([[[0,   0,  0, 0 ,0], \n",
    "                                   [0,   0,  0, 0 ,0], \n",
    "                                   [0,   0,  0, 0, 0],\n",
    "                                   [0,   0,  0, 0 ,0],\n",
    "                                   [0,   0,  0, 0, 0]]])\n"
   ]
  },
  {
   "cell_type": "raw",
   "metadata": {},
   "source": [
    "l2_filter = numpy.zeros((6,2,2))\n",
    "l2_filter[0, :, :] = numpy.array([[[-1, 0], \n",
    "                                   [-1, 0]]])\n",
    "l2_filter[1, :, :] = numpy.array([[[1,   1], \n",
    "                                   [0,   0]]])\n",
    "l2_filter[2, :, :] = numpy.array([[[0,   0], \n",
    "                                   [0,   0]]])\n",
    "l2_filter[3, :, :] = numpy.array([[[1,   1], \n",
    "                                   [1,   1]]])\n",
    "l2_filter[4, :, :] = numpy.array([[[-1,   -1], \n",
    "                                   [-1,   -1]]])\n",
    "l2_filter[5, :, :] = numpy.array([[[0,   0], \n",
    "                                   [0,   0]]])\n"
   ]
  },
  {
   "cell_type": "raw",
   "metadata": {},
   "source": [
    "l3_filter = numpy.zeros((16,5,5))\n",
    "l4_filter = numpy.zeros((16,2,2))\n",
    "l5_filter = numpy.zeros((120,5,5))"
   ]
  },
  {
   "cell_type": "markdown",
   "metadata": {},
   "source": [
    "# Convolutional Neural Network"
   ]
  },
  {
   "cell_type": "code",
   "execution_count": 11,
   "metadata": {},
   "outputs": [
    {
     "data": {
      "text/plain": [
       "(3, 5, 5, 6)"
      ]
     },
     "execution_count": 11,
     "metadata": {},
     "output_type": "execute_result"
    }
   ],
   "source": [
    "numpy.random.rand(3,5,5,6).shape"
   ]
  },
  {
   "cell_type": "code",
   "execution_count": 12,
   "metadata": {
    "scrolled": true
   },
   "outputs": [
    {
     "name": "stdout",
     "output_type": "stream",
     "text": [
      "Filter  1\n",
      "Filter  2\n",
      "Filter  3\n",
      "Filter  4\n",
      "Filter  5\n",
      "Filter  6\n",
      "l1 shape is: \n",
      "(28, 28, 6)\n",
      "Filter  1\n",
      "Filter  2\n",
      "Filter  3\n",
      "Filter  4\n",
      "Filter  5\n",
      "Filter  6\n",
      "Filter  7\n",
      "Filter  8\n",
      "Filter  9\n",
      "Filter  10\n",
      "Filter  11\n",
      "Filter  12\n",
      "Filter  13\n",
      "Filter  14\n",
      "Filter  15\n",
      "Filter  16\n",
      "l2 shape is: \n",
      "(12, 12, 16)\n",
      "Filter  1\n",
      "Filter  2\n",
      "Filter  3\n",
      "Filter  4\n",
      "Filter  5\n",
      "Filter  6\n",
      "Filter  7\n",
      "Filter  8\n",
      "Filter  9\n",
      "Filter  10\n",
      "Filter  11\n",
      "Filter  12\n",
      "Filter  13\n",
      "Filter  14\n",
      "Filter  15\n",
      "Filter  16\n",
      "Filter  17\n",
      "Filter  18\n",
      "Filter  19\n",
      "Filter  20\n",
      "Filter  21\n",
      "Filter  22\n",
      "Filter  23\n",
      "Filter  24\n",
      "Filter  25\n",
      "Filter  26\n",
      "Filter  27\n",
      "Filter  28\n",
      "Filter  29\n",
      "Filter  30\n",
      "Filter  31\n",
      "Filter  32\n",
      "Filter  33\n",
      "Filter  34\n",
      "Filter  35\n",
      "Filter  36\n",
      "Filter  37\n",
      "Filter  38\n",
      "Filter  39\n",
      "Filter  40\n",
      "Filter  41\n",
      "Filter  42\n",
      "Filter  43\n",
      "Filter  44\n",
      "Filter  45\n",
      "Filter  46\n",
      "Filter  47\n",
      "Filter  48\n",
      "Filter  49\n",
      "Filter  50\n",
      "Filter  51\n",
      "Filter  52\n",
      "Filter  53\n",
      "Filter  54\n",
      "Filter  55\n",
      "Filter  56\n",
      "Filter  57\n",
      "Filter  58\n",
      "Filter  59\n",
      "Filter  60\n",
      "Filter  61\n",
      "Filter  62\n",
      "Filter  63\n",
      "Filter  64\n",
      "Filter  65\n",
      "Filter  66\n",
      "Filter  67\n",
      "Filter  68\n",
      "Filter  69\n",
      "Filter  70\n",
      "Filter  71\n",
      "Filter  72\n",
      "Filter  73\n",
      "Filter  74\n",
      "Filter  75\n",
      "Filter  76\n",
      "Filter  77\n",
      "Filter  78\n",
      "Filter  79\n",
      "Filter  80\n",
      "Filter  81\n",
      "Filter  82\n",
      "Filter  83\n",
      "Filter  84\n",
      "Filter  85\n",
      "Filter  86\n",
      "Filter  87\n",
      "Filter  88\n",
      "Filter  89\n",
      "Filter  90\n",
      "Filter  91\n",
      "Filter  92\n",
      "Filter  93\n",
      "Filter  94\n",
      "Filter  95\n",
      "Filter  96\n",
      "Filter  97\n",
      "Filter  98\n",
      "Filter  99\n",
      "Filter  100\n",
      "Filter  101\n",
      "Filter  102\n",
      "Filter  103\n",
      "Filter  104\n",
      "Filter  105\n",
      "Filter  106\n",
      "Filter  107\n",
      "Filter  108\n",
      "Filter  109\n",
      "Filter  110\n",
      "Filter  111\n",
      "Filter  112\n",
      "Filter  113\n",
      "Filter  114\n",
      "Filter  115\n",
      "Filter  116\n",
      "Filter  117\n",
      "Filter  118\n",
      "Filter  119\n",
      "Filter  120\n"
     ]
    }
   ],
   "source": [
    "def network_in(img):\n",
    "    #Working with first conv layer \n",
    "    l1_feature_map = numpycnn.conv(img, l1_filter)\n",
    "    l1_feature_map_relu = numpycnn.relu(l1_feature_map)\n",
    "    l1_feature_map_relu_pool = numpycnn.pooling(l1_feature_map_relu, 2, 1)\n",
    "    \n",
    "    print('l1 shape is: ')\n",
    "    print(l1_feature_map_relu_pool.shape)\n",
    "\n",
    "    # Second conv layer\n",
    "    l2_filter = numpy.random.rand(16, 5, 5, l1_feature_map_relu_pool.shape[-1])\n",
    "    l2_feature_map = numpycnn.conv(l1_feature_map_relu_pool, l2_filter)\n",
    "    l2_feature_map_relu = numpycnn.relu(l2_feature_map)\n",
    "    l2_feature_map_relu_pool = numpycnn.pooling(l2_feature_map_relu, 2, 2)\n",
    "    \n",
    "    print('l2 shape is: ')\n",
    "    print(l2_feature_map_relu_pool.shape)\n",
    "\n",
    "    # Third conv layer\n",
    "    l3_filter = numpy.random.rand(120, 7, 7, l2_feature_map_relu_pool.shape[-1])\n",
    "    l3_feature_map = numpycnn.conv(l2_feature_map_relu_pool, l3_filter)\n",
    "    l3_feature_map_relu = numpycnn.relu(l3_feature_map)\n",
    "    l3_feature_map_relu_pool = numpycnn.pooling(l3_feature_map_relu, 2, 2)\n",
    "\n",
    "    return l3_feature_map_relu_pool\n",
    "    \n",
    "val = network_in(train_x[0])\n",
    "    \n"
   ]
  },
  {
   "cell_type": "code",
   "execution_count": 13,
   "metadata": {},
   "outputs": [
    {
     "data": {
      "text/plain": [
       "(3, 3, 120)"
      ]
     },
     "execution_count": 13,
     "metadata": {},
     "output_type": "execute_result"
    }
   ],
   "source": [
    "val.shape"
   ]
  },
  {
   "cell_type": "code",
   "execution_count": 14,
   "metadata": {},
   "outputs": [],
   "source": [
    "training_data = [(x,y) for x, y in zip(train_x, y_train)]\n",
    "test_data = [(x,y) for x, y in zip(train_y, y_test)]"
   ]
  },
  {
   "cell_type": "code",
   "execution_count": 15,
   "metadata": {},
   "outputs": [
    {
     "data": {
      "text/plain": [
       "(32, 32)"
      ]
     },
     "execution_count": 15,
     "metadata": {},
     "output_type": "execute_result"
    }
   ],
   "source": [
    "training_data[0][0].shape"
   ]
  },
  {
   "cell_type": "code",
   "execution_count": 16,
   "metadata": {},
   "outputs": [],
   "source": [
    "dim = 32"
   ]
  },
  {
   "cell_type": "code",
   "execution_count": 17,
   "metadata": {},
   "outputs": [
    {
     "name": "stdout",
     "output_type": "stream",
     "text": [
      "Epoch 0: 980 / 10000\n",
      "Epoch 1: 980 / 10000\n",
      "Epoch 2: 980 / 10000\n",
      "Epoch 3: 980 / 10000\n",
      "Epoch 4: 980 / 10000\n",
      "Epoch 5: 980 / 10000\n",
      "Epoch 6: 980 / 10000\n",
      "Epoch 7: 980 / 10000\n",
      "Epoch 8: 980 / 10000\n",
      "Epoch 9: 980 / 10000\n",
      "Epoch 10: 980 / 10000\n",
      "Epoch 11: 980 / 10000\n",
      "Epoch 12: 980 / 10000\n",
      "Epoch 13: 980 / 10000\n",
      "Epoch 14: 980 / 10000\n",
      "Epoch 15: 980 / 10000\n",
      "Epoch 16: 980 / 10000\n",
      "Epoch 17: 980 / 10000\n",
      "Epoch 18: 980 / 10000\n",
      "Epoch 19: 980 / 10000\n",
      "Epoch 20: 980 / 10000\n",
      "Epoch 21: 980 / 10000\n",
      "Epoch 22: 980 / 10000\n",
      "Epoch 23: 980 / 10000\n",
      "Epoch 24: 980 / 10000\n",
      "Epoch 25: 980 / 10000\n",
      "Epoch 26: 980 / 10000\n",
      "Epoch 27: 980 / 10000\n",
      "Epoch 28: 980 / 10000\n",
      "Epoch 29: 980 / 10000\n"
     ]
    }
   ],
   "source": [
    "# fully connected network\n",
    "net = Network([dim,100,10])\n",
    "net.SGD(training_data, 30, 10,3.0, test_data = test_data)"
   ]
  },
  {
   "cell_type": "markdown",
   "metadata": {},
   "source": [
    "# discrete python"
   ]
  },
  {
   "cell_type": "code",
   "execution_count": 72,
   "metadata": {},
   "outputs": [
    {
     "data": {
      "text/plain": [
       "'C:\\\\Users\\\\user\\\\Desktop\\\\my research\\\\CNN-on-FPGA-master\\\\CNN-on-FPGA-master\\\\CNN with Numpy'"
      ]
     },
     "execution_count": 72,
     "metadata": {},
     "output_type": "execute_result"
    }
   ],
   "source": [
    "# load train and test data\n",
    "import os\n",
    "os.getcwd()"
   ]
  },