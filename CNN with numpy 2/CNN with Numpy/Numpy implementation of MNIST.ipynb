{
 "cells": [
  {
   "cell_type": "code",
   "execution_count": 1,
   "metadata": {},
   "outputs": [
    {
     "name": "stderr",
     "output_type": "stream",
     "text": [
      "Using TensorFlow backend.\n"
     ]
    }
   ],
   "source": [
    "import numpy as np\n",
    "import tensorflow as tf\n",
    "import keras"
   ]
  },
  {
   "cell_type": "code",
   "execution_count": 2,
   "metadata": {},
   "outputs": [
    {
     "data": {
      "text/plain": [
       "['.ipynb_checkpoints',\n",
       " 'CNN implementation on FPGA.ipynb',\n",
       " 'cnn.py',\n",
       " 'cnn_keras.py',\n",
       " 'conv.py',\n",
       " 'convolution.py',\n",
       " 'data',\n",
       " 'discrete_python.py',\n",
       " 'FPGA implementation of CNN at numpy level.ipynb',\n",
       " 'matrix.py',\n",
       " 'maxpool.py',\n",
       " 'migen_implementation.py',\n",
       " 'network.py',\n",
       " 'Numpy implementation of MNIST.ipynb',\n",
       " 'numpyCNN.py',\n",
       " 'softmax.py',\n",
       " 'WriteToDisk.py',\n",
       " 'x_test.txt',\n",
       " 'x_train.txt',\n",
       " 'y_test.txt',\n",
       " 'y_train.txt',\n",
       " '__pycache__']"
      ]
     },
     "execution_count": 2,
     "metadata": {},
     "output_type": "execute_result"
    }
   ],
   "source": [
    "import os, sys\n",
    "os.listdir()"
   ]
  },
  {
   "cell_type": "code",
   "execution_count": 3,
   "metadata": {},
   "outputs": [],
   "source": [
    "from network import Network"
   ]
  },
  {
   "cell_type": "code",
   "execution_count": 4,
   "metadata": {},
   "outputs": [
    {
     "data": {
      "text/plain": [
       "784"
      ]
     },
     "execution_count": 4,
     "metadata": {},
     "output_type": "execute_result"
    }
   ],
   "source": [
    "28 * 28"
   ]
  },
  {
   "cell_type": "code",
   "execution_count": 5,
   "metadata": {},
   "outputs": [],
   "source": [
    "net = Network([784,500,10])"
   ]
  },
  {
   "cell_type": "code",
   "execution_count": 6,
   "metadata": {},
   "outputs": [],
   "source": [
    "from keras.datasets import mnist"
   ]
  },
  {
   "cell_type": "code",
   "execution_count": 7,
   "metadata": {},
   "outputs": [],
   "source": [
    "(x_train, y_train), (x_test, y_test) = mnist.load_data()"
   ]
  },
  {
   "cell_type": "code",
   "execution_count": 8,
   "metadata": {},
   "outputs": [
    {
     "data": {
      "text/plain": [
       "(60000, 28, 28)"
      ]
     },
     "execution_count": 8,
     "metadata": {},
     "output_type": "execute_result"
    }
   ],
   "source": [
    "x_train.shape"
   ]
  },
  {
   "cell_type": "code",
   "execution_count": 9,
   "metadata": {},
   "outputs": [
    {
     "data": {
      "text/plain": [
       "(784, 1)"
      ]
     },
     "execution_count": 9,
     "metadata": {},
     "output_type": "execute_result"
    }
   ],
   "source": [
    "x_train[0].reshape(-1,1).shape"
   ]
  },
  {
   "cell_type": "code",
   "execution_count": 10,
   "metadata": {},
   "outputs": [],
   "source": [
    "train_data = [(i.reshape(-1,1),j) for i, j in zip(x_train, y_train)]\n",
    "test_data = [(i.reshape(-1,1), j) for i, j in zip(x_test, y_test)]"
   ]
  },
  {
   "cell_type": "code",
   "execution_count": 11,
   "metadata": {
    "scrolled": true
   },
   "outputs": [
    {
     "name": "stderr",
     "output_type": "stream",
     "text": [
      "C:\\Users\\ELISHA ODEMAKINDE\\Desktop\\CNN-on-FPGA-master\\CNN-on-FPGA-master\\CNN with Numpy\\network.py:140: RuntimeWarning: overflow encountered in exp\n",
      "  return 1.0/(1.0+np.exp(-z))\n"
     ]
    },
    {
     "name": "stdout",
     "output_type": "stream",
     "text": [
      "Epoch 0: 1123 / 10000\n",
      "Epoch 1: 1128 / 10000\n",
      "Epoch 2: 1125 / 10000\n",
      "Epoch 3: 1124 / 10000\n",
      "Epoch 4: 1125 / 10000\n",
      "Epoch 5: 1123 / 10000\n",
      "Epoch 6: 1123 / 10000\n",
      "Epoch 7: 1122 / 10000\n",
      "Epoch 8: 1123 / 10000\n",
      "Epoch 9: 1123 / 10000\n",
      "Epoch 10: 1124 / 10000\n",
      "Epoch 11: 1122 / 10000\n",
      "Epoch 12: 1123 / 10000\n",
      "Epoch 13: 1123 / 10000\n",
      "Epoch 14: 1125 / 10000\n",
      "Epoch 15: 1124 / 10000\n",
      "Epoch 16: 1124 / 10000\n",
      "Epoch 17: 1126 / 10000\n",
      "Epoch 18: 1125 / 10000\n",
      "Epoch 19: 1123 / 10000\n",
      "Epoch 20: 1122 / 10000\n",
      "Epoch 21: 1120 / 10000\n",
      "Epoch 22: 1120 / 10000\n",
      "Epoch 23: 1118 / 10000\n",
      "Epoch 24: 1118 / 10000\n",
      "Epoch 25: 1118 / 10000\n",
      "Epoch 26: 1119 / 10000\n",
      "Epoch 27: 1119 / 10000\n",
      "Epoch 28: 1119 / 10000\n",
      "Epoch 29: 1119 / 10000\n"
     ]
    }
   ],
   "source": [
    "net.SGD(train_data, 30,10, eta = 1, test_data = test_data)"
   ]
  },
  {
   "cell_type": "code",
   "execution_count": null,
   "metadata": {},
   "outputs": [],
   "source": []
  }
 ],
 "metadata": {
  "kernelspec": {
   "display_name": "Python 3",
   "language": "python",
   "name": "python3"
  },
  "language_info": {
   "codemirror_mode": {
    "name": "ipython",
    "version": 3
   },
   "file_extension": ".py",
   "mimetype": "text/x-python",
   "name": "python",
   "nbconvert_exporter": "python",
   "pygments_lexer": "ipython3",
   "version": "3.7.1"
  }
 },
 "nbformat": 4,
 "nbformat_minor": 2
}
