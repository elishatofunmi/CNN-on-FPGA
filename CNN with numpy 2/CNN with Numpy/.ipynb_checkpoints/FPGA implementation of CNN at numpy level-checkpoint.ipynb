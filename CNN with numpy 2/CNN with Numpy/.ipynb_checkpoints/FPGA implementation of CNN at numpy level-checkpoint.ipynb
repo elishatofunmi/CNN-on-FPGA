{
 "cells": [
  {
   "cell_type": "code",
   "execution_count": 1,
   "metadata": {},
   "outputs": [],
   "source": [
    "import numpy as np\n",
    "import numpy"
   ]
  },
  {
   "cell_type": "code",
   "execution_count": 2,
   "metadata": {},
   "outputs": [],
   "source": [
    "from network import Network\n",
    "import random\n",
    "import numpyCNN as numpycnn\n"
   ]
  },
  {
   "cell_type": "code",
   "execution_count": 3,
   "metadata": {},
   "outputs": [
    {
     "name": "stderr",
     "output_type": "stream",
     "text": [
      "Using TensorFlow backend.\n"
     ]
    }
   ],
   "source": [
    "from keras.datasets import mnist\n",
    "\n",
    "(X_train, y_train), (X_test, y_test) = mnist.load_data()"
   ]
  },
  {
   "cell_type": "code",
   "execution_count": 4,
   "metadata": {},
   "outputs": [
    {
     "data": {
      "text/plain": [
       "(28, 28)"
      ]
     },
     "execution_count": 4,
     "metadata": {},
     "output_type": "execute_result"
    }
   ],
   "source": [
    "test_case = X_train[0]\n",
    "X_train[0].shape"
   ]
  },
  {
   "cell_type": "code",
   "execution_count": 5,
   "metadata": {},
   "outputs": [],
   "source": [
    "def pad(array, reference_shape= (32,32)):\n",
    "    \n",
    "    result = np.zeros(reference_shape)\n",
    "    result[:array.shape[0],:array.shape[1]] = array\n",
    "    return result"
   ]
  },
  {
   "cell_type": "code",
   "execution_count": 6,
   "metadata": {},
   "outputs": [
    {
     "data": {
      "text/plain": [
       "(32, 32)"
      ]
     },
     "execution_count": 6,
     "metadata": {},
     "output_type": "execute_result"
    }
   ],
   "source": [
    "out = pad(test_case)\n",
    "out.shape"
   ]
  },
  {
   "cell_type": "code",
   "execution_count": 7,
   "metadata": {},
   "outputs": [],
   "source": [
    "def transform(x):\n",
    "    append_x = []\n",
    "    for k in x:\n",
    "        padded_k = pad(k)\n",
    "        append_x.append(padded_k)\n",
    "    return append_x\n",
    "\n",
    "train_x = np.array(transform(X_train))"
   ]
  },
  {
   "cell_type": "code",
   "execution_count": 8,
   "metadata": {},
   "outputs": [
    {
     "data": {
      "text/plain": [
       "(60000, 32, 32)"
      ]
     },
     "execution_count": 8,
     "metadata": {},
     "output_type": "execute_result"
    }
   ],
   "source": [
    "train_x.shape"
   ]
  },
  {
   "cell_type": "markdown",
   "metadata": {},
   "source": [
    "# Filter sizes"
   ]
  },
  {
   "cell_type": "code",
   "execution_count": 9,
   "metadata": {},
   "outputs": [],
   "source": [
    "l1_filter = numpy.zeros((6,5,5))\n",
    "l1_filter[0, :, :] = numpy.array([[[-1, 0, 1,1,1], \n",
    "                                   [-1, 0, 1,1,1], \n",
    "                                   [-1, 0, 1,1,1],\n",
    "                                   [-1, 0, 1,1,1],\n",
    "                                   [-1, 0, 1,1,1]]])\n",
    "l1_filter[1, :, :] = numpy.array([[[1,   1,  1, 1, 1], \n",
    "                                   [0,   0,  0, 0, 0], \n",
    "                                   [-1, -1, -1, -1, -1],\n",
    "                                  [-1, -1, -1, -1, -1],\n",
    "                                  [-1, -1, -1, -1, -1]]])\n",
    "l1_filter[2, :, :] = numpy.array([[[0,   0,  0, 0 ,0], \n",
    "                                   [0,   0,  0, 0 ,0], \n",
    "                                   [0,   0,  0, 0, 0],\n",
    "                                   [0,   0,  0, 0 ,0],\n",
    "                                   [0,   0,  0, 0, 0]]])\n",
    "l1_filter[3, :, :] = numpy.array([[[1,   1,  1, 1, 1], \n",
    "                                   [1,   1,  1, 1, 1], \n",
    "                                   [1,   1,  1, 1, 1],\n",
    "                                   [1,   1,  1, 1, 1],\n",
    "                                   [1,   1,  1, 1, 1]]])\n",
    "l1_filter[4, :, :] = numpy.array([[[-1,   -1,  -1, -1, -1], \n",
    "                                   [-1,   -1,  -1, -1, -1], \n",
    "                                   [-1,   -1,  -1, -1, -1],\n",
    "                                   [-1,   -1,  -1, -1, -1],\n",
    "                                   [-1,   -1,  -1, -1, -1]]])\n",
    "l1_filter[5, :, :] = numpy.array([[[0,   0,  0, 0 ,0], \n",
    "                                   [0,   0,  0, 0 ,0], \n",
    "                                   [0,   0,  0, 0, 0],\n",
    "                                   [0,   0,  0, 0 ,0],\n",
    "                                   [0,   0,  0, 0, 0]]])\n"
   ]
  },
  {
   "cell_type": "raw",
   "metadata": {},
   "source": [
    "l2_filter = numpy.zeros((6,2,2))\n",
    "l2_filter[0, :, :] = numpy.array([[[-1, 0], \n",
    "                                   [-1, 0]]])\n",
    "l2_filter[1, :, :] = numpy.array([[[1,   1], \n",
    "                                   [0,   0]]])\n",
    "l2_filter[2, :, :] = numpy.array([[[0,   0], \n",
    "                                   [0,   0]]])\n",
    "l2_filter[3, :, :] = numpy.array([[[1,   1], \n",
    "                                   [1,   1]]])\n",
    "l2_filter[4, :, :] = numpy.array([[[-1,   -1], \n",
    "                                   [-1,   -1]]])\n",
    "l2_filter[5, :, :] = numpy.array([[[0,   0], \n",
    "                                   [0,   0]]])\n"
   ]
  },
  {
   "cell_type": "raw",
   "metadata": {},
   "source": [
    "l3_filter = numpy.zeros((16,5,5))\n",
    "l4_filter = numpy.zeros((16,2,2))\n",
    "l5_filter = numpy.zeros((120,5,5))"
   ]
  },
  {
   "cell_type": "markdown",
   "metadata": {},
   "source": [
    "# Convolutional Neural Network"
   ]
  },
  {
   "cell_type": "code",
   "execution_count": 13,
   "metadata": {},
   "outputs": [
    {
     "name": "stdout",
     "output_type": "stream",
     "text": [
      "Filter  1\n",
      "Filter  2\n",
      "Filter  3\n",
      "Filter  4\n",
      "Filter  5\n",
      "Filter  6\n",
      "6\n",
      "Filter  1\n",
      "Filter  2\n",
      "Filter  3\n"
     ]
    },
    {
     "ename": "ValueError",
     "evalue": "negative dimensions are not allowed",
     "output_type": "error",
     "traceback": [
      "\u001b[1;31m---------------------------------------------------------------------------\u001b[0m",
      "\u001b[1;31mValueError\u001b[0m                                Traceback (most recent call last)",
      "\u001b[1;32m<ipython-input-13-48de56971b27>\u001b[0m in \u001b[0;36m<module>\u001b[1;34m\u001b[0m\n\u001b[0;32m     20\u001b[0m     \u001b[1;32mreturn\u001b[0m \u001b[0ml3_feature_map_relu_pool\u001b[0m\u001b[1;33m\u001b[0m\u001b[1;33m\u001b[0m\u001b[0m\n\u001b[0;32m     21\u001b[0m \u001b[1;33m\u001b[0m\u001b[0m\n\u001b[1;32m---> 22\u001b[1;33m \u001b[0mval\u001b[0m \u001b[1;33m=\u001b[0m \u001b[0mnetwork\u001b[0m\u001b[1;33m(\u001b[0m\u001b[0mX_train\u001b[0m\u001b[1;33m[\u001b[0m\u001b[1;36m0\u001b[0m\u001b[1;33m]\u001b[0m\u001b[1;33m)\u001b[0m\u001b[1;33m\u001b[0m\u001b[1;33m\u001b[0m\u001b[0m\n\u001b[0m\u001b[0;32m     23\u001b[0m \u001b[1;33m\u001b[0m\u001b[0m\n",
      "\u001b[1;32m<ipython-input-13-48de56971b27>\u001b[0m in \u001b[0;36mnetwork\u001b[1;34m(img)\u001b[0m\n\u001b[0;32m     14\u001b[0m     \u001b[1;31m# Third conv layer\u001b[0m\u001b[1;33m\u001b[0m\u001b[1;33m\u001b[0m\u001b[1;33m\u001b[0m\u001b[0m\n\u001b[0;32m     15\u001b[0m     \u001b[0ml3_filter\u001b[0m \u001b[1;33m=\u001b[0m \u001b[0mnumpy\u001b[0m\u001b[1;33m.\u001b[0m\u001b[0mrandom\u001b[0m\u001b[1;33m.\u001b[0m\u001b[0mrand\u001b[0m\u001b[1;33m(\u001b[0m\u001b[1;36m1\u001b[0m\u001b[1;33m,\u001b[0m \u001b[1;36m7\u001b[0m\u001b[1;33m,\u001b[0m \u001b[1;36m7\u001b[0m\u001b[1;33m,\u001b[0m \u001b[0ml2_feature_map_relu_pool\u001b[0m\u001b[1;33m.\u001b[0m\u001b[0mshape\u001b[0m\u001b[1;33m[\u001b[0m\u001b[1;33m-\u001b[0m\u001b[1;36m1\u001b[0m\u001b[1;33m]\u001b[0m\u001b[1;33m)\u001b[0m\u001b[1;33m\u001b[0m\u001b[1;33m\u001b[0m\u001b[0m\n\u001b[1;32m---> 16\u001b[1;33m     \u001b[0ml3_feature_map\u001b[0m \u001b[1;33m=\u001b[0m \u001b[0mnumpycnn\u001b[0m\u001b[1;33m.\u001b[0m\u001b[0mconv\u001b[0m\u001b[1;33m(\u001b[0m\u001b[0ml2_feature_map_relu_pool\u001b[0m\u001b[1;33m,\u001b[0m \u001b[0ml3_filter\u001b[0m\u001b[1;33m)\u001b[0m\u001b[1;33m\u001b[0m\u001b[1;33m\u001b[0m\u001b[0m\n\u001b[0m\u001b[0;32m     17\u001b[0m     \u001b[0ml3_feature_map_relu\u001b[0m \u001b[1;33m=\u001b[0m \u001b[0mnumpycnn\u001b[0m\u001b[1;33m.\u001b[0m\u001b[0mrelu\u001b[0m\u001b[1;33m(\u001b[0m\u001b[0ml3_feature_map\u001b[0m\u001b[1;33m)\u001b[0m\u001b[1;33m\u001b[0m\u001b[1;33m\u001b[0m\u001b[0m\n\u001b[0;32m     18\u001b[0m     \u001b[0ml3_feature_map_relu_pool\u001b[0m \u001b[1;33m=\u001b[0m \u001b[0mnumpycnn\u001b[0m\u001b[1;33m.\u001b[0m\u001b[0mpooling\u001b[0m\u001b[1;33m(\u001b[0m\u001b[0ml3_feature_map_relu\u001b[0m\u001b[1;33m,\u001b[0m \u001b[1;36m2\u001b[0m\u001b[1;33m,\u001b[0m \u001b[1;36m2\u001b[0m\u001b[1;33m)\u001b[0m\u001b[1;33m\u001b[0m\u001b[1;33m\u001b[0m\u001b[0m\n",
      "\u001b[1;32m~\\Desktop\\my research\\CNN-on-FPGA-master\\CNN-on-FPGA-master\\CNN with Numpy\\numpyCNN.py\u001b[0m in \u001b[0;36mconv\u001b[1;34m(img, conv_filter)\u001b[0m\n\u001b[0;32m     63\u001b[0m     feature_maps = numpy.zeros((img.shape[0]-conv_filter.shape[1]+1, \n\u001b[0;32m     64\u001b[0m                                 \u001b[0mimg\u001b[0m\u001b[1;33m.\u001b[0m\u001b[0mshape\u001b[0m\u001b[1;33m[\u001b[0m\u001b[1;36m1\u001b[0m\u001b[1;33m]\u001b[0m\u001b[1;33m-\u001b[0m\u001b[0mconv_filter\u001b[0m\u001b[1;33m.\u001b[0m\u001b[0mshape\u001b[0m\u001b[1;33m[\u001b[0m\u001b[1;36m1\u001b[0m\u001b[1;33m]\u001b[0m\u001b[1;33m+\u001b[0m\u001b[1;36m1\u001b[0m\u001b[1;33m,\u001b[0m\u001b[1;33m\u001b[0m\u001b[1;33m\u001b[0m\u001b[0m\n\u001b[1;32m---> 65\u001b[1;33m                                 conv_filter.shape[0]))\n\u001b[0m\u001b[0;32m     66\u001b[0m \u001b[1;33m\u001b[0m\u001b[0m\n\u001b[0;32m     67\u001b[0m     \u001b[1;31m# Convolving the image by the filter(s).\u001b[0m\u001b[1;33m\u001b[0m\u001b[1;33m\u001b[0m\u001b[1;33m\u001b[0m\u001b[0m\n",
      "\u001b[1;31mValueError\u001b[0m: negative dimensions are not allowed"
     ]
    }
   ],
   "source": [
    "def network(img):\n",
    "    #Working with first conv layer \n",
    "    l1_feature_map = numpycnn.conv(img, l1_filter)\n",
    "    l1_feature_map_relu = numpycnn.relu(l1_feature_map)\n",
    "    l1_feature_map_relu_pool = numpycnn.pooling(l1_feature_map_relu, 2, 2)\n",
    "\n",
    "    # Second conv layer\n",
    "    l2_filter = numpy.random.rand(3, 5, 5, l1_feature_map_relu_pool.shape[-1])\n",
    "    l2_feature_map = numpycnn.conv(l1_feature_map_relu_pool, l2_filter)\n",
    "    l2_feature_map_relu = numpycnn.relu(l2_feature_map)\n",
    "    l2_feature_map_relu_pool = numpycnn.pooling(l2_feature_map_relu, 2, 2)\n",
    "\n",
    "    # Third conv layer\n",
    "    l3_filter = numpy.random.rand(1, 7, 7, l2_feature_map_relu_pool.shape[-1])\n",
    "    l3_feature_map = numpycnn.conv(l2_feature_map_relu_pool, l3_filter)\n",
    "    l3_feature_map_relu = numpycnn.relu(l3_feature_map)\n",
    "    l3_feature_map_relu_pool = numpycnn.pooling(l3_feature_map_relu, 2, 2)\n",
    "\n",
    "    return l3_feature_map_relu_pool\n",
    "    \n",
    "val = network(X_train[0])\n",
    "    \n"
   ]
  },
  {
   "cell_type": "code",
   "execution_count": null,
   "metadata": {},
   "outputs": [],
   "source": []
  }
 ],
 "metadata": {
  "kernelspec": {
   "display_name": "Python 3",
   "language": "python",
   "name": "python3"
  },
  "language_info": {
   "codemirror_mode": {
    "name": "ipython",
    "version": 3
   },
   "file_extension": ".py",
   "mimetype": "text/x-python",
   "name": "python",
   "nbconvert_exporter": "python",
   "pygments_lexer": "ipython3",
   "version": "3.7.3"
  }
 },
 "nbformat": 4,
 "nbformat_minor": 2
}
